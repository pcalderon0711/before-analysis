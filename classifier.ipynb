{
 "cells": [
  {
   "cell_type": "code",
   "execution_count": 34,
   "metadata": {
    "collapsed": true
   },
   "outputs": [],
   "source": [
    "%matplotlib inline"
   ]
  },
  {
   "cell_type": "code",
   "execution_count": 510,
   "metadata": {},
   "outputs": [],
   "source": [
    "import re\n",
    "import numpy as np\n",
    "import pandas as pd\n",
    "from keras.layers import Input, Embedding, Dropout, LSTM, Dense, Flatten\n",
    "from keras.models import Model\n",
    "from keras.preprocessing.text import one_hot\n",
    "from keras.preprocessing.sequence import pad_sequences\n",
    "from sklearn.model_selection import train_test_split\n",
    "from sklearn.feature_extraction.text import CountVectorizer\n",
    "from sklearn.model_selection import StratifiedKFold"
   ]
  },
  {
   "cell_type": "code",
   "execution_count": 15,
   "metadata": {
    "collapsed": true
   },
   "outputs": [],
   "source": [
    "def remove_punc(sentence):\n",
    "    PATTERN = r'[^a-zA-Z0-9 ]'\n",
    "    filtered_sentence = re.sub(PATTERN, r' ', sentence)\n",
    "    return filtered_sentence.strip()"
   ]
  },
  {
   "cell_type": "code",
   "execution_count": 2,
   "metadata": {
    "collapsed": true
   },
   "outputs": [],
   "source": [
    "sunrise = pd.read_csv('sunrise_preprocess.csv')\n",
    "sunset = pd.read_csv('sunset_preprocess.csv')\n",
    "dat = pd.concat([sunrise, sunset])"
   ]
  },
  {
   "cell_type": "code",
   "execution_count": 278,
   "metadata": {
    "scrolled": false
   },
   "outputs": [
    {
     "data": {
      "text/html": [
       "<div>\n",
       "<style scoped>\n",
       "    .dataframe tbody tr th:only-of-type {\n",
       "        vertical-align: middle;\n",
       "    }\n",
       "\n",
       "    .dataframe tbody tr th {\n",
       "        vertical-align: top;\n",
       "    }\n",
       "\n",
       "    .dataframe thead th {\n",
       "        text-align: right;\n",
       "    }\n",
       "</style>\n",
       "<table border=\"1\" class=\"dataframe\">\n",
       "  <thead>\n",
       "    <tr style=\"text-align: right;\">\n",
       "      <th></th>\n",
       "      <th>speaker</th>\n",
       "      <th>line</th>\n",
       "      <th>scene</th>\n",
       "    </tr>\n",
       "  </thead>\n",
       "  <tbody>\n",
       "    <tr>\n",
       "      <th>0</th>\n",
       "      <td>Jesse</td>\n",
       "      <td>Do you have any idea what they were arguing ...</td>\n",
       "      <td>1</td>\n",
       "    </tr>\n",
       "    <tr>\n",
       "      <th>1</th>\n",
       "      <td>Jesse</td>\n",
       "      <td>Do you do you speak English?</td>\n",
       "      <td>1</td>\n",
       "    </tr>\n",
       "    <tr>\n",
       "      <th>2</th>\n",
       "      <td>Céline</td>\n",
       "      <td>Yeah. No, I'm sorry, my German is not very goo...</td>\n",
       "      <td>1</td>\n",
       "    </tr>\n",
       "    <tr>\n",
       "      <th>3</th>\n",
       "      <td>Jesse</td>\n",
       "      <td>No.</td>\n",
       "      <td>1</td>\n",
       "    </tr>\n",
       "    <tr>\n",
       "      <th>4</th>\n",
       "      <td>Céline</td>\n",
       "      <td>Well, supposedly, men lose the ability to hear...</td>\n",
       "      <td>1</td>\n",
       "    </tr>\n",
       "    <tr>\n",
       "      <th>5</th>\n",
       "      <td>Jesse</td>\n",
       "      <td>I guess. Nature's way of allowing couples to g...</td>\n",
       "      <td>1</td>\n",
       "    </tr>\n",
       "    <tr>\n",
       "      <th>6</th>\n",
       "      <td>Céline</td>\n",
       "      <td>How bout you?</td>\n",
       "      <td>1</td>\n",
       "    </tr>\n",
       "    <tr>\n",
       "      <th>7</th>\n",
       "      <td>Jesse</td>\n",
       "      <td>Umm.</td>\n",
       "      <td>1</td>\n",
       "    </tr>\n",
       "    <tr>\n",
       "      <th>8</th>\n",
       "      <td>Jesse</td>\n",
       "      <td>Look, I was thinking about going to the lounge...</td>\n",
       "      <td>1</td>\n",
       "    </tr>\n",
       "    <tr>\n",
       "      <th>9</th>\n",
       "      <td>Céline</td>\n",
       "      <td>Yeah.</td>\n",
       "      <td>1</td>\n",
       "    </tr>\n",
       "    <tr>\n",
       "      <th>10</th>\n",
       "      <td>Jesse</td>\n",
       "      <td>Okay.</td>\n",
       "      <td>1</td>\n",
       "    </tr>\n",
       "    <tr>\n",
       "      <th>11</th>\n",
       "      <td>Jesse</td>\n",
       "      <td>So how do you speak such good English?</td>\n",
       "      <td>2</td>\n",
       "    </tr>\n",
       "    <tr>\n",
       "      <th>12</th>\n",
       "      <td>Céline</td>\n",
       "      <td>I went to school for a summer in Los Angeles. ...</td>\n",
       "      <td>2</td>\n",
       "    </tr>\n",
       "    <tr>\n",
       "      <th>13</th>\n",
       "      <td>Jesse</td>\n",
       "      <td>Yeah, this is good.</td>\n",
       "      <td>2</td>\n",
       "    </tr>\n",
       "    <tr>\n",
       "      <th>14</th>\n",
       "      <td>Céline</td>\n",
       "      <td>Then I spent some time in London. How do you s...</td>\n",
       "      <td>2</td>\n",
       "    </tr>\n",
       "    <tr>\n",
       "      <th>15</th>\n",
       "      <td>Jesse</td>\n",
       "      <td>Me? I'm American.</td>\n",
       "      <td>2</td>\n",
       "    </tr>\n",
       "    <tr>\n",
       "      <th>16</th>\n",
       "      <td>Céline</td>\n",
       "      <td>You're American?</td>\n",
       "      <td>2</td>\n",
       "    </tr>\n",
       "    <tr>\n",
       "      <th>17</th>\n",
       "      <td>Jesse</td>\n",
       "      <td>Yeah.</td>\n",
       "      <td>2</td>\n",
       "    </tr>\n",
       "    <tr>\n",
       "      <th>18</th>\n",
       "      <td>Céline</td>\n",
       "      <td>Are you sure?</td>\n",
       "      <td>2</td>\n",
       "    </tr>\n",
       "    <tr>\n",
       "      <th>19</th>\n",
       "      <td>Jesse</td>\n",
       "      <td>Yeah.</td>\n",
       "      <td>2</td>\n",
       "    </tr>\n",
       "    <tr>\n",
       "      <th>20</th>\n",
       "      <td>Céline</td>\n",
       "      <td>No, I'm joking. I knew you were American. An...</td>\n",
       "      <td>2</td>\n",
       "    </tr>\n",
       "    <tr>\n",
       "      <th>21</th>\n",
       "      <td>Jesse</td>\n",
       "      <td>You know</td>\n",
       "      <td>2</td>\n",
       "    </tr>\n",
       "    <tr>\n",
       "      <th>22</th>\n",
       "      <td>Céline</td>\n",
       "      <td>UN billet.</td>\n",
       "      <td>2</td>\n",
       "    </tr>\n",
       "    <tr>\n",
       "      <th>23</th>\n",
       "      <td>Jesse</td>\n",
       "      <td>Un. Whatever. Un, Un.   So, where are you headed?</td>\n",
       "      <td>2</td>\n",
       "    </tr>\n",
       "    <tr>\n",
       "      <th>24</th>\n",
       "      <td>Céline</td>\n",
       "      <td>Well, back to Paris. My classes start next week.</td>\n",
       "      <td>2</td>\n",
       "    </tr>\n",
       "    <tr>\n",
       "      <th>25</th>\n",
       "      <td>Jesse</td>\n",
       "      <td>Oh, you're still in school? Where do you go?</td>\n",
       "      <td>2</td>\n",
       "    </tr>\n",
       "    <tr>\n",
       "      <th>26</th>\n",
       "      <td>Céline</td>\n",
       "      <td>Yeah, La Sorbonne, you know?</td>\n",
       "      <td>2</td>\n",
       "    </tr>\n",
       "    <tr>\n",
       "      <th>27</th>\n",
       "      <td>Jesse</td>\n",
       "      <td>Well, sure.   Hey, you coming from Budapest?</td>\n",
       "      <td>2</td>\n",
       "    </tr>\n",
       "    <tr>\n",
       "      <th>28</th>\n",
       "      <td>Céline</td>\n",
       "      <td>Yeah, I was visiting my grandmother.</td>\n",
       "      <td>2</td>\n",
       "    </tr>\n",
       "    <tr>\n",
       "      <th>29</th>\n",
       "      <td>Jesse</td>\n",
       "      <td>Oh. How's she?</td>\n",
       "      <td>2</td>\n",
       "    </tr>\n",
       "    <tr>\n",
       "      <th>...</th>\n",
       "      <td>...</td>\n",
       "      <td>...</td>\n",
       "      <td>...</td>\n",
       "    </tr>\n",
       "    <tr>\n",
       "      <th>745</th>\n",
       "      <td>Jesse</td>\n",
       "      <td>I doubt it.</td>\n",
       "      <td>7</td>\n",
       "    </tr>\n",
       "    <tr>\n",
       "      <th>746</th>\n",
       "      <td>Céline</td>\n",
       "      <td>OK. What do you want to hear? I have a...I h...</td>\n",
       "      <td>7</td>\n",
       "    </tr>\n",
       "    <tr>\n",
       "      <th>747</th>\n",
       "      <td>Jesse</td>\n",
       "      <td>A waltz? Yeah, play the waltz.</td>\n",
       "      <td>7</td>\n",
       "    </tr>\n",
       "    <tr>\n",
       "      <th>748</th>\n",
       "      <td>Céline</td>\n",
       "      <td>I haven't played it in a while, you sure?   Al...</td>\n",
       "      <td>7</td>\n",
       "    </tr>\n",
       "    <tr>\n",
       "      <th>749</th>\n",
       "      <td>Céline</td>\n",
       "      <td>Let me sing you, a waltz. Out of nowhere, out ...</td>\n",
       "      <td>7</td>\n",
       "    </tr>\n",
       "    <tr>\n",
       "      <th>750</th>\n",
       "      <td>Céline</td>\n",
       "      <td>But now you're gone. You are far gone. All the...</td>\n",
       "      <td>7</td>\n",
       "    </tr>\n",
       "    <tr>\n",
       "      <th>751</th>\n",
       "      <td>Céline</td>\n",
       "      <td>It was for you just a one night thing. But you...</td>\n",
       "      <td>7</td>\n",
       "    </tr>\n",
       "    <tr>\n",
       "      <th>752</th>\n",
       "      <td>Céline</td>\n",
       "      <td>I don't care what they say I know what you mea...</td>\n",
       "      <td>7</td>\n",
       "    </tr>\n",
       "    <tr>\n",
       "      <th>753</th>\n",
       "      <td>Céline</td>\n",
       "      <td>I just wanted another try. I just wanted anoth...</td>\n",
       "      <td>7</td>\n",
       "    </tr>\n",
       "    <tr>\n",
       "      <th>754</th>\n",
       "      <td>Céline</td>\n",
       "      <td>You meant for me much more Than anyone I've me...</td>\n",
       "      <td>7</td>\n",
       "    </tr>\n",
       "    <tr>\n",
       "      <th>755</th>\n",
       "      <td>Céline</td>\n",
       "      <td>One single night with you, little...Jesse... I...</td>\n",
       "      <td>7</td>\n",
       "    </tr>\n",
       "    <tr>\n",
       "      <th>756</th>\n",
       "      <td>Céline</td>\n",
       "      <td>Let me sing you a waltz Out of nowhere, out of...</td>\n",
       "      <td>7</td>\n",
       "    </tr>\n",
       "    <tr>\n",
       "      <th>757</th>\n",
       "      <td>Jesse</td>\n",
       "      <td>No, one more, one more. Please, please? C’mon....</td>\n",
       "      <td>7</td>\n",
       "    </tr>\n",
       "    <tr>\n",
       "      <th>758</th>\n",
       "      <td>Céline</td>\n",
       "      <td>No! No, no, no, no - it was our deal. One... o...</td>\n",
       "      <td>7</td>\n",
       "    </tr>\n",
       "    <tr>\n",
       "      <th>759</th>\n",
       "      <td>Céline</td>\n",
       "      <td>You can have your tea, and then ah...</td>\n",
       "      <td>7</td>\n",
       "    </tr>\n",
       "    <tr>\n",
       "      <th>760</th>\n",
       "      <td>Jesse</td>\n",
       "      <td>Alright, let me...Let me ask you one questio...</td>\n",
       "      <td>7</td>\n",
       "    </tr>\n",
       "    <tr>\n",
       "      <th>761</th>\n",
       "      <td>Céline</td>\n",
       "      <td>Oh, yes, of course! What do you think, that I ...</td>\n",
       "      <td>7</td>\n",
       "    </tr>\n",
       "    <tr>\n",
       "      <th>762</th>\n",
       "      <td>Jesse</td>\n",
       "      <td>Oh, is this you? Little cross-eyed Céline?</td>\n",
       "      <td>7</td>\n",
       "    </tr>\n",
       "    <tr>\n",
       "      <th>763</th>\n",
       "      <td>Céline</td>\n",
       "      <td>Yes. That’s funny</td>\n",
       "      <td>7</td>\n",
       "    </tr>\n",
       "    <tr>\n",
       "      <th>764</th>\n",
       "      <td>Jesse</td>\n",
       "      <td>Cute! Is that your grandmother?</td>\n",
       "      <td>7</td>\n",
       "    </tr>\n",
       "    <tr>\n",
       "      <th>765</th>\n",
       "      <td>Céline</td>\n",
       "      <td>Yeah.</td>\n",
       "      <td>7</td>\n",
       "    </tr>\n",
       "    <tr>\n",
       "      <th>766</th>\n",
       "      <td>Jesse</td>\n",
       "      <td>Oh, wow.</td>\n",
       "      <td>7</td>\n",
       "    </tr>\n",
       "    <tr>\n",
       "      <th>767</th>\n",
       "      <td>Céline</td>\n",
       "      <td>You want some honey?</td>\n",
       "      <td>7</td>\n",
       "    </tr>\n",
       "    <tr>\n",
       "      <th>768</th>\n",
       "      <td>Jesse</td>\n",
       "      <td>Yeah, sure.</td>\n",
       "      <td>7</td>\n",
       "    </tr>\n",
       "    <tr>\n",
       "      <th>769</th>\n",
       "      <td>Céline</td>\n",
       "      <td>Did you ever see Nina Simone in concert?</td>\n",
       "      <td>7</td>\n",
       "    </tr>\n",
       "    <tr>\n",
       "      <th>770</th>\n",
       "      <td>Jesse</td>\n",
       "      <td>No, I never did. I can't believe she's gone.</td>\n",
       "      <td>7</td>\n",
       "    </tr>\n",
       "    <tr>\n",
       "      <th>771</th>\n",
       "      <td>Céline</td>\n",
       "      <td>I know, it's so sad!</td>\n",
       "      <td>7</td>\n",
       "    </tr>\n",
       "    <tr>\n",
       "      <th>772</th>\n",
       "      <td>Jesse</td>\n",
       "      <td>Thanks.</td>\n",
       "      <td>7</td>\n",
       "    </tr>\n",
       "    <tr>\n",
       "      <th>773</th>\n",
       "      <td>Céline</td>\n",
       "      <td>It’s hot.   I saw her twice, in concert. She w...</td>\n",
       "      <td>7</td>\n",
       "    </tr>\n",
       "    <tr>\n",
       "      <th>774</th>\n",
       "      <td>Jesse</td>\n",
       "      <td>I know...</td>\n",
       "      <td>7</td>\n",
       "    </tr>\n",
       "  </tbody>\n",
       "</table>\n",
       "<p>1462 rows × 3 columns</p>\n",
       "</div>"
      ],
      "text/plain": [
       "    speaker                                               line  scene\n",
       "0     Jesse    Do you have any idea what they were arguing ...      1\n",
       "1     Jesse                       Do you do you speak English?      1\n",
       "2    Céline  Yeah. No, I'm sorry, my German is not very goo...      1\n",
       "3     Jesse                                                No.      1\n",
       "4    Céline  Well, supposedly, men lose the ability to hear...      1\n",
       "5     Jesse  I guess. Nature's way of allowing couples to g...      1\n",
       "6    Céline                                      How bout you?      1\n",
       "7     Jesse                                               Umm.      1\n",
       "8     Jesse  Look, I was thinking about going to the lounge...      1\n",
       "9    Céline                                              Yeah.      1\n",
       "10    Jesse                                              Okay.      1\n",
       "11    Jesse             So how do you speak such good English?      2\n",
       "12   Céline  I went to school for a summer in Los Angeles. ...      2\n",
       "13    Jesse                                Yeah, this is good.      2\n",
       "14   Céline  Then I spent some time in London. How do you s...      2\n",
       "15    Jesse                                  Me? I'm American.      2\n",
       "16   Céline                                   You're American?      2\n",
       "17    Jesse                                              Yeah.      2\n",
       "18   Céline                                      Are you sure?      2\n",
       "19    Jesse                                              Yeah.      2\n",
       "20   Céline    No, I'm joking. I knew you were American. An...      2\n",
       "21    Jesse                                           You know      2\n",
       "22   Céline                                         UN billet.      2\n",
       "23    Jesse  Un. Whatever. Un, Un.   So, where are you headed?      2\n",
       "24   Céline   Well, back to Paris. My classes start next week.      2\n",
       "25    Jesse       Oh, you're still in school? Where do you go?      2\n",
       "26   Céline                       Yeah, La Sorbonne, you know?      2\n",
       "27    Jesse       Well, sure.   Hey, you coming from Budapest?      2\n",
       "28   Céline               Yeah, I was visiting my grandmother.      2\n",
       "29    Jesse                                     Oh. How's she?      2\n",
       "..      ...                                                ...    ...\n",
       "745   Jesse                                        I doubt it.      7\n",
       "746  Céline    OK. What do you want to hear? I have a...I h...      7\n",
       "747   Jesse                     A waltz? Yeah, play the waltz.      7\n",
       "748  Céline  I haven't played it in a while, you sure?   Al...      7\n",
       "749  Céline  Let me sing you, a waltz. Out of nowhere, out ...      7\n",
       "750  Céline  But now you're gone. You are far gone. All the...      7\n",
       "751  Céline  It was for you just a one night thing. But you...      7\n",
       "752  Céline  I don't care what they say I know what you mea...      7\n",
       "753  Céline  I just wanted another try. I just wanted anoth...      7\n",
       "754  Céline  You meant for me much more Than anyone I've me...      7\n",
       "755  Céline  One single night with you, little...Jesse... I...      7\n",
       "756  Céline  Let me sing you a waltz Out of nowhere, out of...      7\n",
       "757   Jesse  No, one more, one more. Please, please? C’mon....      7\n",
       "758  Céline  No! No, no, no, no - it was our deal. One... o...      7\n",
       "759  Céline              You can have your tea, and then ah...      7\n",
       "760   Jesse    Alright, let me...Let me ask you one questio...      7\n",
       "761  Céline  Oh, yes, of course! What do you think, that I ...      7\n",
       "762   Jesse         Oh, is this you? Little cross-eyed Céline?      7\n",
       "763  Céline                                  Yes. That’s funny      7\n",
       "764   Jesse                    Cute! Is that your grandmother?      7\n",
       "765  Céline                                              Yeah.      7\n",
       "766   Jesse                                           Oh, wow.      7\n",
       "767  Céline                               You want some honey?      7\n",
       "768   Jesse                                        Yeah, sure.      7\n",
       "769  Céline           Did you ever see Nina Simone in concert?      7\n",
       "770   Jesse       No, I never did. I can't believe she's gone.      7\n",
       "771  Céline                               I know, it's so sad!      7\n",
       "772   Jesse                                            Thanks.      7\n",
       "773  Céline  It’s hot.   I saw her twice, in concert. She w...      7\n",
       "774   Jesse                                          I know...      7\n",
       "\n",
       "[1462 rows x 3 columns]"
      ]
     },
     "execution_count": 278,
     "metadata": {},
     "output_type": "execute_result"
    }
   ],
   "source": [
    "dat['line']"
   ]
  },
  {
   "cell_type": "code",
   "execution_count": 161,
   "metadata": {
    "scrolled": true
   },
   "outputs": [
    {
     "data": {
      "text/plain": [
       "0      1\n",
       "1      1\n",
       "2      0\n",
       "3      1\n",
       "4      0\n",
       "5      1\n",
       "6      0\n",
       "7      1\n",
       "8      1\n",
       "9      0\n",
       "10     1\n",
       "11     1\n",
       "12     0\n",
       "13     1\n",
       "14     0\n",
       "15     1\n",
       "16     0\n",
       "17     1\n",
       "18     0\n",
       "19     1\n",
       "20     0\n",
       "21     1\n",
       "22     0\n",
       "23     1\n",
       "24     0\n",
       "25     1\n",
       "26     0\n",
       "27     1\n",
       "28     0\n",
       "29     1\n",
       "      ..\n",
       "745    1\n",
       "746    0\n",
       "747    1\n",
       "748    0\n",
       "749    0\n",
       "750    0\n",
       "751    0\n",
       "752    0\n",
       "753    0\n",
       "754    0\n",
       "755    0\n",
       "756    0\n",
       "757    1\n",
       "758    0\n",
       "759    0\n",
       "760    1\n",
       "761    0\n",
       "762    1\n",
       "763    0\n",
       "764    1\n",
       "765    0\n",
       "766    1\n",
       "767    0\n",
       "768    1\n",
       "769    0\n",
       "770    1\n",
       "771    0\n",
       "772    1\n",
       "773    0\n",
       "774    1\n",
       "Name: speaker, Length: 1462, dtype: int64"
      ]
     },
     "execution_count": 161,
     "metadata": {},
     "output_type": "execute_result"
    }
   ],
   "source": [
    "dat['speaker'].map(lambda x: 1 if x == 'Jesse' else 0)"
   ]
  },
  {
   "cell_type": "code",
   "execution_count": 162,
   "metadata": {},
   "outputs": [],
   "source": [
    "labels = dat['speaker'].map(lambda x: 1 if x == 'Jesse' else 0).values"
   ]
  },
  {
   "cell_type": "code",
   "execution_count": 121,
   "metadata": {},
   "outputs": [],
   "source": [
    "lines = dat['line'].values"
   ]
  },
  {
   "cell_type": "code",
   "execution_count": 280,
   "metadata": {
    "collapsed": true
   },
   "outputs": [],
   "source": [
    "tokenized = [remove_punc(line.strip().lower()) for line in lines]"
   ]
  },
  {
   "cell_type": "code",
   "execution_count": 282,
   "metadata": {},
   "outputs": [],
   "source": [
    "length = [len(remove_punc(line.strip().lower()).split()) for line in lines]"
   ]
  },
  {
   "cell_type": "code",
   "execution_count": 283,
   "metadata": {
    "collapsed": true
   },
   "outputs": [],
   "source": [
    "dat['len'] = length"
   ]
  },
  {
   "cell_type": "code",
   "execution_count": 523,
   "metadata": {},
   "outputs": [],
   "source": [
    "filtered = dat[dat['len']>3]"
   ]
  },
  {
   "cell_type": "code",
   "execution_count": 525,
   "metadata": {
    "scrolled": true
   },
   "outputs": [
    {
     "data": {
      "text/plain": [
       "Jesse     512\n",
       "Céline    512\n",
       "Name: speaker, dtype: int64"
      ]
     },
     "execution_count": 525,
     "metadata": {},
     "output_type": "execute_result"
    }
   ],
   "source": [
    "filtered['speaker'].value_counts()"
   ]
  },
  {
   "cell_type": "code",
   "execution_count": 293,
   "metadata": {
    "collapsed": true
   },
   "outputs": [],
   "source": [
    "labels = filtered['speaker'].map(lambda x: 1 if x == 'Jesse' else 0).values"
   ]
  },
  {
   "cell_type": "code",
   "execution_count": 294,
   "metadata": {
    "collapsed": true
   },
   "outputs": [],
   "source": [
    "lines = filtered['line'].values"
   ]
  },
  {
   "cell_type": "code",
   "execution_count": 319,
   "metadata": {
    "collapsed": true
   },
   "outputs": [],
   "source": [
    "tokenized = [remove_punc(line.strip().lower()) for line in lines]"
   ]
  },
  {
   "cell_type": "code",
   "execution_count": 321,
   "metadata": {
    "collapsed": true
   },
   "outputs": [],
   "source": [
    "cv = CountVectorizer()"
   ]
  },
  {
   "cell_type": "code",
   "execution_count": 330,
   "metadata": {},
   "outputs": [],
   "source": [
    "tok = cv.fit_transform(tokenized).toarray()"
   ]
  },
  {
   "cell_type": "code",
   "execution_count": 493,
   "metadata": {},
   "outputs": [],
   "source": [
    "kfold = StratifiedKFold(n_splits=10, shuffle=True, random_state=1)"
   ]
  },
  {
   "cell_type": "code",
   "execution_count": 516,
   "metadata": {
    "collapsed": true
   },
   "outputs": [],
   "source": [
    "?Dense"
   ]
  },
  {
   "cell_type": "code",
   "execution_count": 526,
   "metadata": {
    "collapsed": true
   },
   "outputs": [],
   "source": [
    "def train_model(xtr, ytr, n1, n2):\n",
    "    x = Input(shape=(tok.shape[1],))\n",
    "    y = Dense(n1, activation='relu')(x)\n",
    "    y = Dropout(0.5)(y)\n",
    "    y = Dense(n2, activation='relu')(y)\n",
    "    y = Dense(1, activation='sigmoid')(y)\n",
    "    model = Model(inputs=x, outputs=y)\n",
    "    model.compile(loss='binary_crossentropy', optimizer='adam', metrics=['acc'])\n",
    "    model.fit(xtr, ytr, epochs=10, batch_size=64, verbose=0)\n",
    "    return model"
   ]
  },
  {
   "cell_type": "code",
   "execution_count": 529,
   "metadata": {},
   "outputs": [
    {
     "name": "stdout",
     "output_type": "stream",
     "text": [
      "8 4: 59.56% (+/- 2.70%)\n",
      "8 8: 59.85% (+/- 4.45%)\n",
      "8 16: 61.04% (+/- 3.18%)\n",
      "8 32: 61.82% (+/- 4.41%)\n",
      "16 4: 60.44% (+/- 2.30%)\n",
      "16 8: 60.84% (+/- 3.12%)\n",
      "16 16: 61.42% (+/- 1.78%)\n",
      "16 32: 61.62% (+/- 2.95%)\n",
      "32 4: 60.06% (+/- 3.70%)\n",
      "32 8: 61.62% (+/- 3.00%)\n",
      "32 16: 61.43% (+/- 3.71%)\n",
      "32 32: 62.60% (+/- 2.28%)\n",
      "64 4: 60.44% (+/- 2.18%)\n",
      "64 8: 62.29% (+/- 2.71%)\n",
      "64 16: 61.43% (+/- 3.17%)\n",
      "64 32: 61.42% (+/- 2.79%)\n"
     ]
    }
   ],
   "source": [
    "for n1 in [8,16,32,64]:\n",
    "    for n2 in [4,8,16,32]:\n",
    "        cvscores = []\n",
    "        for train, test in kfold.split(tok, labels):\n",
    "          # create model\n",
    "            model = train_model(tok[train], labels[train], n1, n2)\n",
    "            scores = model.evaluate(tok[test], labels[test], verbose=0)\n",
    "    #         print(\"%s: %s: %.2f%%\" % (n, model.metrics_names[1], scores[1]*100))\n",
    "            cvscores.append(scores[1] * 100)\n",
    "        print(\"%s %s: %.2f%% (+/- %.2f%%)\" % (n1, n2, np.mean(cvscores), np.std(cvscores)))"
   ]
  },
  {
   "cell_type": "code",
   "execution_count": 522,
   "metadata": {},
   "outputs": [
    {
     "data": {
      "text/plain": [
       "Jesse     512\n",
       "Céline    512\n",
       "Name: speaker, dtype: int64"
      ]
     },
     "execution_count": 522,
     "metadata": {},
     "output_type": "execute_result"
    }
   ],
   "source": [
    "filtered['speaker'].value_counts()"
   ]
  },
  {
   "cell_type": "code",
   "execution_count": 506,
   "metadata": {},
   "outputs": [
    {
     "name": "stdout",
     "output_type": "stream",
     "text": [
      "Epoch 1/10\n",
      "1024/1024 [==============================] - 3s 3ms/step - loss: 0.6913 - acc: 0.5283\n",
      "Epoch 2/10\n",
      "1024/1024 [==============================] - 0s 160us/step - loss: 0.6201 - acc: 0.6709\n",
      "Epoch 3/10\n",
      "1024/1024 [==============================] - 0s 139us/step - loss: 0.5696 - acc: 0.7256\n",
      "Epoch 4/10\n",
      "1024/1024 [==============================] - 0s 135us/step - loss: 0.5282 - acc: 0.7646\n",
      "Epoch 5/10\n",
      "1024/1024 [==============================] - 0s 148us/step - loss: 0.4928 - acc: 0.8057\n",
      "Epoch 6/10\n",
      "1024/1024 [==============================] - 0s 125us/step - loss: 0.4547 - acc: 0.8203\n",
      "Epoch 7/10\n",
      "1024/1024 [==============================] - 0s 163us/step - loss: 0.4215 - acc: 0.8389\n",
      "Epoch 8/10\n",
      "1024/1024 [==============================] - 0s 147us/step - loss: 0.3960 - acc: 0.8506\n",
      "Epoch 9/10\n",
      "1024/1024 [==============================] - 0s 134us/step - loss: 0.3711 - acc: 0.8633\n",
      "Epoch 10/10\n",
      "1024/1024 [==============================] - 0s 138us/step - loss: 0.3442 - acc: 0.8809\n"
     ]
    },
    {
     "data": {
      "text/plain": [
       "<keras.engine.training.Model at 0x125329b70>"
      ]
     },
     "execution_count": 506,
     "metadata": {},
     "output_type": "execute_result"
    }
   ],
   "source": [
    "train_model(tok, labels)"
   ]
  },
  {
   "cell_type": "code",
   "execution_count": null,
   "metadata": {
    "collapsed": true
   },
   "outputs": [],
   "source": []
  }
 ],
 "metadata": {
  "kernelspec": {
   "display_name": "Python 3",
   "language": "python",
   "name": "python3"
  },
  "language_info": {
   "codemirror_mode": {
    "name": "ipython",
    "version": 3
   },
   "file_extension": ".py",
   "mimetype": "text/x-python",
   "name": "python",
   "nbconvert_exporter": "python",
   "pygments_lexer": "ipython3",
   "version": "3.6.1"
  }
 },
 "nbformat": 4,
 "nbformat_minor": 2
}
